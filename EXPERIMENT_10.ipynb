{
  "nbformat": 4,
  "nbformat_minor": 0,
  "metadata": {
    "colab": {
      "name": "EXPERIMENT-10.ipynb",
      "provenance": [],
      "collapsed_sections": []
    },
    "kernelspec": {
      "name": "python3",
      "display_name": "Python 3"
    },
    "language_info": {
      "name": "python"
    }
  },
  "cells": [
    {
      "cell_type": "code",
      "metadata": {
        "id": "xCHaGPEwJik_"
      },
      "source": [
        "! pip install concepts"
      ],
      "execution_count": null,
      "outputs": []
    },
    {
      "cell_type": "code",
      "metadata": {
        "id": "CHQ_FG1zJnGG"
      },
      "source": [
        "from concepts import Context, load_cxt, make_context, load_csv\n",
        "import numpy as np\n",
        "import pandas as pd"
      ],
      "execution_count": null,
      "outputs": []
    },
    {
      "cell_type": "code",
      "metadata": {
        "id": "uzoOghNjJp8T"
      },
      "source": [
        "c = Context.fromstring('''\n",
        "           |human|knight|king |mysterious|\n",
        "King Arthur|  X  |  X   |  X  |          |\n",
        "Sir Robin  |  X  |  X   |     |          |\n",
        "holy grail |     |      |     |     X    |\n",
        "''')\n",
        "c.lattice.graphviz()  \n",
        "# c.tofile(filename='mycsv.csv', frmat='csv') # to get what kind of csv they are expecting"
      ],
      "execution_count": null,
      "outputs": []
    },
    {
      "cell_type": "code",
      "metadata": {
        "id": "7iwY61TjJs88"
      },
      "source": [
        "context = load_cxt('./tealady.cxt')\n",
        "context"
      ],
      "execution_count": null,
      "outputs": []
    },
    {
      "cell_type": "code",
      "metadata": {
        "id": "GcXT5IiFJvwd"
      },
      "source": [
        "context.lattice.graphviz()"
      ],
      "execution_count": null,
      "outputs": []
    },
    {
      "cell_type": "code",
      "metadata": {
        "id": "3gBcxz6zJ0KE"
      },
      "source": [
        "atr_size = 20\n",
        "arr = np.random.randint(2, size=(atr_size, atr_size))\n",
        "df = pd.DataFrame(data=arr, columns=[f'doc{i}' for i in range(atr_size)])\n",
        "new_col = [f'term{i}' for i in range(atr_size)]\n",
        "df[df == 1] = 'X'\n",
        "df[df == 0] = ''\n",
        "df.insert(loc=0, column='', value=new_col)\n",
        "df.to_csv('./dummy.csv', index=False)"
      ],
      "execution_count": null,
      "outputs": []
    },
    {
      "cell_type": "code",
      "metadata": {
        "id": "UA2ewIYjJ3Hf"
      },
      "source": [
        "context = load_csv('./dummy.csv')\n",
        "context"
      ],
      "execution_count": null,
      "outputs": []
    },
    {
      "cell_type": "code",
      "metadata": {
        "id": "MUhLpgtAJ51T"
      },
      "source": [
        "df"
      ],
      "execution_count": null,
      "outputs": []
    },
    {
      "cell_type": "code",
      "metadata": {
        "id": "1hrO18P6J8Az"
      },
      "source": [
        "context.lattice.graphviz()"
      ],
      "execution_count": null,
      "outputs": []
    },
    {
      "cell_type": "code",
      "metadata": {
        "id": "oDU6xOv2J-Ti"
      },
      "source": [
        ""
      ],
      "execution_count": null,
      "outputs": []
    }
  ]
}